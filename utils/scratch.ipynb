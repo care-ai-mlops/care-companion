{
 "cells": [
  {
   "cell_type": "code",
   "execution_count": 19,
   "id": "46b6e7c6",
   "metadata": {},
   "outputs": [],
   "source": [
    "import os\n",
    "import time\n",
    "import numpy as np\n",
    "import torch\n",
    "import onnx\n",
    "import onnxruntime as ort\n",
    "from typing import Optional\n",
    "from torch import nn\n",
    "from torchvision import models\n",
    "from torchinfo import summary\n"
   ]
  },
  {
   "cell_type": "code",
   "execution_count": 14,
   "id": "d270d7db",
   "metadata": {},
   "outputs": [],
   "source": [
    "class PreTrainedClassifier(nn.Module):\n",
    "    \"\"\"ResNet-18 backbone → custom FC head for N classes.\"\"\"\n",
    "\n",
    "    def __init__(self, \n",
    "                 num_classes: int =3,\n",
    "                 dropout: float = 0.5, \n",
    "                 pretrained: bool = True,\n",
    "                 model_backbone: Optional[str] = \"resnet18\",\n",
    "                 ) -> None:\n",
    "        super().__init__()\n",
    "        self.model_backbone_map = {\n",
    "            'resnet18': models.ResNet18_Weights.IMAGENET1K_V1,\n",
    "            'resnet50': models.ResNet50_Weights.IMAGENET1K_V1,\n",
    "            'efficientnetb1': models.EfficientNet_B1_Weights.IMAGENET1K_V2, \n",
    "            'efficientnetb1': models.EfficientNet_B4_Weights.IMAGENET1K_V1, \n",
    "        }\n",
    "        self.dropout = dropout\n",
    "        if model_backbone in self.model_backbone_map and pretrained:\n",
    "            weights = self.model_backbone_map[model_backbone] \n",
    "        elif model_backbone in self.model_backbone_map and not pretrained:\n",
    "            weights = None\n",
    "        else:\n",
    "            raise ValueError(f\"Unsupported model backbone: {model_backbone}\")\n",
    "            \n",
    "        self.backbone = models.resnet18(weights=weights)\n",
    "        in_feat = self.backbone.fc.in_features\n",
    "        self.backbone.fc = nn.Sequential(\n",
    "            nn.Dropout(p=self.dropout),\n",
    "            nn.Linear(in_feat, 256),\n",
    "            nn.ReLU(),\n",
    "            nn.Dropout(p=self.dropout),\n",
    "            nn.Linear(256, num_classes)\n",
    "        )\n",
    "        self.classifier = self.backbone.fc\n",
    "\n",
    "    def forward(self, x):\n",
    "        return self.backbone(x)"
   ]
  },
  {
   "cell_type": "code",
   "execution_count": 15,
   "id": "8594d309",
   "metadata": {},
   "outputs": [],
   "source": [
    "model = PreTrainedClassifier()\n"
   ]
  },
  {
   "cell_type": "code",
   "execution_count": 17,
   "id": "af8a3a47",
   "metadata": {},
   "outputs": [
    {
     "data": {
      "text/plain": [
       "<All keys matched successfully>"
      ]
     },
     "execution_count": 17,
     "metadata": {},
     "output_type": "execute_result"
    }
   ],
   "source": [
    "state_dict_path = \"../models/torch/chest/best_resnet.pt\"\n",
    "model.load_state_dict(torch.load(state_dict_path, map_location=\"cuda\"))"
   ]
  },
  {
   "cell_type": "code",
   "execution_count": 18,
   "id": "5ce622be",
   "metadata": {},
   "outputs": [
    {
     "data": {
      "text/plain": [
       "<All keys matched successfully>"
      ]
     },
     "execution_count": 18,
     "metadata": {},
     "output_type": "execute_result"
    }
   ],
   "source": [
    "model.load_state_dict(torch.load(state_dict_path, map_location=\"cuda\"))"
   ]
  },
  {
   "cell_type": "code",
   "execution_count": 21,
   "id": "ceb33a73",
   "metadata": {},
   "outputs": [
    {
     "data": {
      "text/plain": [
       "======================================================================\n",
       "Layer (type:depth-idx)                        Param #\n",
       "======================================================================\n",
       "PreTrainedClassifier                          --\n",
       "├─ResNet: 1-1                                 --\n",
       "│    └─Conv2d: 2-1                            9,408\n",
       "│    └─BatchNorm2d: 2-2                       128\n",
       "│    └─ReLU: 2-3                              --\n",
       "│    └─MaxPool2d: 2-4                         --\n",
       "│    └─Sequential: 2-5                        --\n",
       "│    │    └─BasicBlock: 3-1                   73,984\n",
       "│    │    └─BasicBlock: 3-2                   73,984\n",
       "│    └─Sequential: 2-6                        --\n",
       "│    │    └─BasicBlock: 3-3                   230,144\n",
       "│    │    └─BasicBlock: 3-4                   295,424\n",
       "│    └─Sequential: 2-7                        --\n",
       "│    │    └─BasicBlock: 3-5                   919,040\n",
       "│    │    └─BasicBlock: 3-6                   1,180,672\n",
       "│    └─Sequential: 2-8                        --\n",
       "│    │    └─BasicBlock: 3-7                   3,673,088\n",
       "│    │    └─BasicBlock: 3-8                   4,720,640\n",
       "│    └─AdaptiveAvgPool2d: 2-9                 --\n",
       "│    └─Sequential: 2-10                       --\n",
       "│    │    └─Dropout: 3-9                      --\n",
       "│    │    └─Linear: 3-10                      131,328\n",
       "│    │    └─ReLU: 3-11                        --\n",
       "│    │    └─Dropout: 3-12                     --\n",
       "│    │    └─Linear: 3-13                      771\n",
       "├─Sequential: 1-2                             (recursive)\n",
       "│    └─Dropout: 2-11                          --\n",
       "│    └─Linear: 2-12                           (recursive)\n",
       "│    └─ReLU: 2-13                             --\n",
       "│    └─Dropout: 2-14                          --\n",
       "│    └─Linear: 2-15                           (recursive)\n",
       "======================================================================\n",
       "Total params: 11,308,611\n",
       "Trainable params: 11,308,611\n",
       "Non-trainable params: 0\n",
       "======================================================================"
      ]
     },
     "execution_count": 21,
     "metadata": {},
     "output_type": "execute_result"
    }
   ],
   "source": [
    "summary(model)"
   ]
  },
  {
   "cell_type": "code",
   "execution_count": 22,
   "id": "092a8f6f",
   "metadata": {},
   "outputs": [
    {
     "name": "stdout",
     "output_type": "stream",
     "text": [
      "ONNX model saved to ../models/onnx/chest/chest_resnet.onnx\n"
     ]
    }
   ],
   "source": [
    "onnx_model_path = \"../models/onnx/chest/chest_resnet.onnx\"\n",
    "# dummy input - used to clarify the input shape\n",
    "dummy_input = torch.randn(1, 3, 224, 224)  \n",
    "torch.onnx.export(model, dummy_input, onnx_model_path,\n",
    "                  export_params=True, opset_version=20,\n",
    "                  do_constant_folding=True, input_names=['input'],\n",
    "                  output_names=['output'], dynamic_axes={\"input\": {0: \"batch_size\"}, \"output\": {0: \"batch_size\"}})\n",
    "\n",
    "print(f\"ONNX model saved to {onnx_model_path}\")"
   ]
  },
  {
   "cell_type": "code",
   "execution_count": 23,
   "id": "6c1ed89c",
   "metadata": {},
   "outputs": [],
   "source": [
    "onnx_model = onnx.load(onnx_model_path)\n",
    "onnx.checker.check_model(onnx_model)"
   ]
  },
  {
   "cell_type": "code",
   "execution_count": null,
   "id": "7e050c66",
   "metadata": {},
   "outputs": [
    {
     "ename": "AttributeError",
     "evalue": "parameters",
     "output_type": "error",
     "traceback": [
      "\u001b[31m---------------------------------------------------------------------------\u001b[39m",
      "\u001b[31mAttributeError\u001b[39m                            Traceback (most recent call last)",
      "\u001b[36mCell\u001b[39m\u001b[36m \u001b[39m\u001b[32mIn[24]\u001b[39m\u001b[32m, line 1\u001b[39m\n\u001b[32m----> \u001b[39m\u001b[32m1\u001b[39m \u001b[43msummary\u001b[49m\u001b[43m(\u001b[49m\u001b[43monnx_model\u001b[49m\u001b[43m)\u001b[49m\n",
      "\u001b[36mFile \u001b[39m\u001b[32m~/github_repos/care-companion/.venv/lib/python3.12/site-packages/torchinfo/torchinfo.py:212\u001b[39m, in \u001b[36msummary\u001b[39m\u001b[34m(model, input_size, input_data, batch_dim, cache_forward_pass, col_names, col_width, depth, device, dtypes, mode, row_settings, verbose, **kwargs)\u001b[39m\n\u001b[32m    209\u001b[39m     cache_forward_pass = \u001b[38;5;28;01mFalse\u001b[39;00m\n\u001b[32m    211\u001b[39m \u001b[38;5;28;01mif\u001b[39;00m device \u001b[38;5;129;01mis\u001b[39;00m \u001b[38;5;28;01mNone\u001b[39;00m:\n\u001b[32m--> \u001b[39m\u001b[32m212\u001b[39m     device = \u001b[43mget_device\u001b[49m\u001b[43m(\u001b[49m\u001b[43mmodel\u001b[49m\u001b[43m,\u001b[49m\u001b[43m \u001b[49m\u001b[43minput_data\u001b[49m\u001b[43m)\u001b[49m\n\u001b[32m    213\u001b[39m \u001b[38;5;28;01melif\u001b[39;00m \u001b[38;5;28misinstance\u001b[39m(device, \u001b[38;5;28mstr\u001b[39m):\n\u001b[32m    214\u001b[39m     device = torch.device(device)\n",
      "\u001b[36mFile \u001b[39m\u001b[32m~/github_repos/care-companion/.venv/lib/python3.12/site-packages/torchinfo/torchinfo.py:481\u001b[39m, in \u001b[36mget_device\u001b[39m\u001b[34m(model, input_data)\u001b[39m\n\u001b[32m    479\u001b[39m \u001b[38;5;28;01mif\u001b[39;00m input_data \u001b[38;5;129;01mis\u001b[39;00m \u001b[38;5;28;01mNone\u001b[39;00m:\n\u001b[32m    480\u001b[39m     \u001b[38;5;28;01mtry\u001b[39;00m:\n\u001b[32m--> \u001b[39m\u001b[32m481\u001b[39m         model_parameter = \u001b[38;5;28mnext\u001b[39m(\u001b[43mmodel\u001b[49m\u001b[43m.\u001b[49m\u001b[43mparameters\u001b[49m())\n\u001b[32m    482\u001b[39m     \u001b[38;5;28;01mexcept\u001b[39;00m \u001b[38;5;167;01mStopIteration\u001b[39;00m:\n\u001b[32m    483\u001b[39m         model_parameter = \u001b[38;5;28;01mNone\u001b[39;00m\n",
      "\u001b[31mAttributeError\u001b[39m: parameters"
     ]
    }
   ],
   "source": []
  }
 ],
 "metadata": {
  "kernelspec": {
   "display_name": ".venv",
   "language": "python",
   "name": "python3"
  },
  "language_info": {
   "codemirror_mode": {
    "name": "ipython",
    "version": 3
   },
   "file_extension": ".py",
   "mimetype": "text/x-python",
   "name": "python",
   "nbconvert_exporter": "python",
   "pygments_lexer": "ipython3",
   "version": "3.12.3"
  }
 },
 "nbformat": 4,
 "nbformat_minor": 5
}
