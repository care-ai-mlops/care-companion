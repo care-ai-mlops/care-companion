{
 "cells": [
  {
   "cell_type": "code",
   "execution_count": null,
   "id": "77bf0605",
   "metadata": {},
   "outputs": [],
   "source": [
    "%pip install -q chi"
   ]
  },
  {
   "cell_type": "code",
   "execution_count": null,
   "id": "4dd72588",
   "metadata": {},
   "outputs": [],
   "source": [
    "from chi import server, context, lease\n",
    "import os, time\n",
    "\n",
    "context.version = \"1.0\" \n",
    "context.choose_project()\n",
    "context.choose_site(default=\"CHI@TACC\")"
   ]
  },
  {
   "cell_type": "code",
   "execution_count": null,
   "id": "59c78aef",
   "metadata": {},
   "outputs": [],
   "source": [
    "l = lease.get_lease(f\"node-gpu-project51\") \n",
    "l.show()"
   ]
  },
  {
   "cell_type": "code",
   "execution_count": null,
   "id": "5cec7b5c",
   "metadata": {},
   "outputs": [],
   "source": [
    "username = os.getenv('USER') # all exp resources will have this prefix\n",
    "s = server.Server(\n",
    "    f\"node-gpu-project51\", \n",
    "    reservation_id=l.node_reservations[0][\"id\"],\n",
    "    image_name=\"CC-Ubuntu24.04-CUDA\"\n",
    ")\n",
    "s.submit(idempotent=True)"
   ]
  },
  {
   "cell_type": "code",
   "execution_count": null,
   "id": "5bca03b3",
   "metadata": {},
   "outputs": [],
   "source": [
    "s.associate_floating_ip()"
   ]
  },
  {
   "cell_type": "code",
   "execution_count": null,
   "id": "78bcfd8a",
   "metadata": {},
   "outputs": [],
   "source": [
    "s.refresh()\n",
    "s.check_connectivity()"
   ]
  },
  {
   "cell_type": "code",
   "execution_count": null,
   "id": "defcb8e4",
   "metadata": {},
   "outputs": [],
   "source": [
    "s.refresh()\n",
    "s.show(type=\"widget\")"
   ]
  },
  {
   "cell_type": "code",
   "execution_count": null,
   "id": "d94f3aa7",
   "metadata": {},
   "outputs": [],
   "source": [
    "s.execute(\"git clone --recurse-submodules https://github.com/care-ai-mlops/care-companion.git\")"
   ]
  },
  {
   "cell_type": "markdown",
   "id": "82893566",
   "metadata": {},
   "source": [
    "## Docker Setup"
   ]
  },
  {
   "cell_type": "code",
   "execution_count": null,
   "id": "d200d0d7",
   "metadata": {},
   "outputs": [],
   "source": [
    "s.execute(\"curl -sSL https://get.docker.com/ | sudo sh\")\n",
    "s.execute(\"sudo groupadd -f docker; sudo usermod -aG docker $USER\")"
   ]
  },
  {
   "cell_type": "markdown",
   "id": "fa0ebe68",
   "metadata": {},
   "source": [
    "## Setup AMD GPU"
   ]
  },
  {
   "cell_type": "code",
   "execution_count": null,
   "id": "db29eca0",
   "metadata": {},
   "outputs": [],
   "source": [
    "s.execute(\"sudo apt update; wget https://repo.radeon.com/amdgpu-install/6.3.3/ubuntu/noble/amdgpu-install_6.3.60303-1_all.deb\")\n",
    "s.execute(\"sudo apt -y install ./amdgpu-install_6.3.60303-1_all.deb; sudo apt update\")"
   ]
  },
  {
   "cell_type": "code",
   "execution_count": null,
   "id": "9577d4b5",
   "metadata": {},
   "outputs": [],
   "source": [
    "s.execute(\"amdgpu-install -y --usecase=dkms\")"
   ]
  },
  {
   "cell_type": "code",
   "execution_count": null,
   "id": "9bc0a87c",
   "metadata": {},
   "outputs": [],
   "source": [
    "s.execute(\"sudo apt -y install rocm-smi\")"
   ]
  },
  {
   "cell_type": "code",
   "execution_count": null,
   "id": "9d4eaeeb",
   "metadata": {},
   "outputs": [],
   "source": [
    "s.execute(\"sudo usermod -aG video,render $USER\")"
   ]
  },
  {
   "cell_type": "code",
   "execution_count": null,
   "id": "a2dde427",
   "metadata": {},
   "outputs": [],
   "source": [
    "s.execute(\"sudo reboot\")\n",
    "time.sleep(30)"
   ]
  },
  {
   "cell_type": "code",
   "execution_count": null,
   "id": "ca4068c9",
   "metadata": {},
   "outputs": [],
   "source": [
    "s.refresh()\n",
    "s.check_connectivity()"
   ]
  },
  {
   "cell_type": "code",
   "execution_count": null,
   "id": "1fa6a5a3",
   "metadata": {},
   "outputs": [],
   "source": [
    "s.execute(\"rocm-smi\")"
   ]
  },
  {
   "cell_type": "code",
   "execution_count": null,
   "id": "75a4dc3a",
   "metadata": {},
   "outputs": [],
   "source": [
    "s.execute(\"sudo apt -y install cmake libncurses-dev libsystemd-dev libudev-dev libdrm-dev libgtest-dev\")\n",
    "s.execute(\"git clone https://github.com/Syllo/nvtop\")\n",
    "s.execute(\"mkdir -p nvtop/build && cd nvtop/build && cmake .. -DAMDGPU_SUPPORT=ON && sudo make install\")"
   ]
  },
  {
   "cell_type": "code",
   "execution_count": null,
   "id": "211e9455",
   "metadata": {},
   "outputs": [],
   "source": []
  }
 ],
 "metadata": {
  "kernelspec": {
   "display_name": "test",
   "language": "python",
   "name": "python3"
  },
  "language_info": {
   "codemirror_mode": {
    "name": "ipython",
    "version": 3
   },
   "file_extension": ".py",
   "mimetype": "text/x-python",
   "name": "python",
   "nbconvert_exporter": "python",
   "pygments_lexer": "ipython3",
   "version": "3.12.7"
  }
 },
 "nbformat": 4,
 "nbformat_minor": 5
}
