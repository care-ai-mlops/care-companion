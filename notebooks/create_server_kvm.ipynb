{
 "cells": [
  {
   "cell_type": "code",
   "execution_count": null,
   "id": "4c986469-a9cb-4c90-a6a0-19970eaf1142",
   "metadata": {},
   "outputs": [],
   "source": [
    "from chi import server, context\n",
    "import chi, os, time, datetime\n",
    "\n",
    "context.version = \"1.0\" \n",
    "context.choose_project()\n",
    "context.choose_site(default=\"KVM@TACC\")"
   ]
  },
  {
   "cell_type": "code",
   "execution_count": null,
   "id": "867ebe6c-a6d6-4ffe-ad5e-c5e3b825dbe5",
   "metadata": {},
   "outputs": [],
   "source": [
    "username = os.getenv('USER') # all exp resources will have this prefix\n",
    "s = server.Server(\n",
    "    f\"node-persist-{username}\", \n",
    "    image_name=\"CC-Ubuntu24.04\",\n",
    "    flavor_name=\"m1.large\"\n",
    ")\n",
    "s.submit(idempotent=True)"
   ]
  },
  {
   "cell_type": "code",
   "execution_count": null,
   "id": "40dfdee7-fb16-40ae-953f-58f6b60a5b8c",
   "metadata": {},
   "outputs": [],
   "source": [
    "s.associate_floating_ip()"
   ]
  },
  {
   "cell_type": "code",
   "execution_count": null,
   "id": "0ff1f9e9-f846-457e-af15-e14f9351aeb1",
   "metadata": {},
   "outputs": [],
   "source": [
    "s.refresh()\n",
    "s.check_connectivity()"
   ]
  },
  {
   "cell_type": "code",
   "execution_count": null,
   "id": "8653170d-4a64-4bf5-a455-be779da90c98",
   "metadata": {},
   "outputs": [],
   "source": [
    "s.refresh()\n",
    "s.show(type=\"widget\")"
   ]
  },
  {
   "cell_type": "code",
   "execution_count": null,
   "id": "2b4b8bf4-ea16-43e8-9600-b16f10519fbe",
   "metadata": {},
   "outputs": [],
   "source": [
    "security_groups = [\n",
    "  {'name': \"allow-ssh\", 'port': 22, 'description': \"Enable SSH traffic on TCP port 22\"},\n",
    "  {'name': \"allow-8888\", 'port': 8888, 'description': \"Enable TCP port 8888 (used by Jupyter)\"},\n",
    "  {'name': \"allow-8000\", 'port': 8000, 'description': \"Enable TCP port 8000 (used by MLFlow)\"},\n",
    "  {'name': \"allow-9000\", 'port': 9000, 'description': \"Enable TCP port 9000 (used by MinIO API)\"},\n",
    "  {'name': \"allow-9001\", 'port': 9001, 'description': \"Enable TCP port 9001 (used by MinIO Web UI)\"}\n",
    "]"
   ]
  },
  {
   "cell_type": "code",
   "execution_count": null,
   "id": "a1911c38-a633-4ab5-9787-b842ed9cb999",
   "metadata": {},
   "outputs": [],
   "source": [
    "# configure openstacksdk for actions unsupported by python-chi\n",
    "os_conn = chi.clients.connection()\n",
    "nova_server = chi.nova().servers.get(s.id)\n",
    "\n",
    "for sg in security_groups:\n",
    "\n",
    "  if not os_conn.get_security_group(sg['name']):\n",
    "      os_conn.create_security_group(sg['name'], sg['description'])\n",
    "      os_conn.create_security_group_rule(sg['name'], port_range_min=sg['port'], port_range_max=sg['port'], protocol='tcp', remote_ip_prefix='0.0.0.0/0')\n",
    "\n",
    "  nova_server.add_security_group(sg['name'])\n",
    "\n",
    "print(f\"updated security groups: {[group.name for group in nova_server.list_security_group()]}\")"
   ]
  },
  {
   "cell_type": "code",
   "execution_count": null,
   "id": "313ce63a-2165-46a9-bf5d-598f0a0e5ab4",
   "metadata": {},
   "outputs": [],
   "source": [
    "s.execute(\"git clone https://github.com/Nightshade14/care-companion.git\")"
   ]
  },
  {
   "cell_type": "code",
   "execution_count": null,
   "id": "438becdc-3b72-42c8-83b3-715421b7eee6",
   "metadata": {},
   "outputs": [],
   "source": [
    "s.execute(\"curl -sSL https://get.docker.com/ | sudo sh\")\n",
    "s.execute(\"sudo groupadd -f docker; sudo usermod -aG docker $USER\")"
   ]
  },
  {
   "cell_type": "markdown",
   "id": "bf076176",
   "metadata": {},
   "source": [
    "## Mounting Block Storage"
   ]
  },
  {
   "cell_type": "code",
   "execution_count": null,
   "id": "c2b95f9d-1cda-4874-b86f-388ea8614e45",
   "metadata": {},
   "outputs": [],
   "source": [
    "cinder_client = chi.clients.cinder()\n",
    "volume = [v for v in cinder_client.volumes.list() if v.name=='block-persist-project51'][0]\n",
    "\n",
    "volume_manager = chi.nova().volumes\n",
    "volume_manager.create_server_volume(server_id = s.id, volume_id = volume.id)"
   ]
  },
  {
   "cell_type": "code",
   "execution_count": null,
   "id": "8622518c",
   "metadata": {},
   "outputs": [],
   "source": [
    "s.execute('sudo mkdir -p /mnt/block')\n",
    "s.execute('sudo mount /dev/vdb1 /mnt/block')\n",
    "s.execute('ls -l /mnt/block')"
   ]
  },
  {
   "cell_type": "markdown",
   "id": "7c11760a",
   "metadata": {},
   "source": [
    "## Mounting Object Storage"
   ]
  },
  {
   "cell_type": "code",
   "execution_count": null,
   "id": "338a13a1",
   "metadata": {},
   "outputs": [],
   "source": [
    "s.execute('curl https://rclone.org/install.sh | sudo bash')\n",
    "s.execute(\"sudo sed -i '/^#user_allow_other/s/^#//' /etc/fuse.conf\")\n",
    "s.execute(\"mkdir -p ~/.config/rclone\")"
   ]
  },
  {
   "cell_type": "code",
   "execution_count": null,
   "id": "01aaa58a",
   "metadata": {},
   "outputs": [],
   "source": [
    "s.execute(\"ln -sf /mnt/block/rclone/rclone.conf ~/.config/rclone/rclone.conf\")\n",
    "s.execute(\"rclone lsd chi_tacc:object-persist-project51\")"
   ]
  },
  {
   "cell_type": "code",
   "execution_count": null,
   "id": "3ffef453",
   "metadata": {},
   "outputs": [],
   "source": [
    "s.execute('sudo mkdir -p /mnt/object')\n",
    "s.execute('sudo chown -R cc /mnt/object')\n",
    "s.execute('sudo chgrp -R cc /mnt/object')"
   ]
  },
  {
   "cell_type": "code",
   "execution_count": null,
   "id": "663400b7",
   "metadata": {},
   "outputs": [],
   "source": [
    "s.execute('rclone mount chi_tacc:object-persist-project51 /mnt/object --read-only --allow-other --daemon')"
   ]
  }
 ],
 "metadata": {
  "kernelspec": {
   "display_name": "Python 3 (ipykernel)",
   "language": "python",
   "name": "python3"
  },
  "language_info": {
   "codemirror_mode": {
    "name": "ipython",
    "version": 3
   },
   "file_extension": ".py",
   "mimetype": "text/x-python",
   "name": "python",
   "nbconvert_exporter": "python",
   "pygments_lexer": "ipython3",
   "version": "3.12.4"
  }
 },
 "nbformat": 4,
 "nbformat_minor": 5
}
