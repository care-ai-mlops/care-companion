{
 "cells": [
  {
   "cell_type": "code",
   "execution_count": null,
   "id": "77bf0605",
   "metadata": {},
   "outputs": [],
   "source": [
    "%pip install -q chi"
   ]
  },
  {
   "cell_type": "code",
   "execution_count": null,
   "id": "4dd72588",
   "metadata": {},
   "outputs": [],
   "source": [
    "from chi import server, context, lease\n",
    "import os\n",
    "\n",
    "context.version = \"1.0\" \n",
    "context.choose_project()\n",
    "context.choose_site(default=\"CHI@TACC\")"
   ]
  },
  {
   "cell_type": "code",
   "execution_count": null,
   "id": "59c78aef",
   "metadata": {},
   "outputs": [],
   "source": [
    "l = lease.get_lease(f\"node-gpu-project51\") \n",
    "l.show()"
   ]
  },
  {
   "cell_type": "code",
   "execution_count": null,
   "id": "5cec7b5c",
   "metadata": {},
   "outputs": [],
   "source": [
    "username = os.getenv('USER') # all exp resources will have this prefix\n",
    "s = server.Server(\n",
    "    f\"node-gpu-project51\", \n",
    "    reservation_id=l.node_reservations[0][\"id\"],\n",
    "    image_name=\"CC-Ubuntu24.04-CUDA\"\n",
    ")\n",
    "s.submit(idempotent=True)"
   ]
  },
  {
   "cell_type": "code",
   "execution_count": null,
   "id": "5bca03b3",
   "metadata": {},
   "outputs": [],
   "source": [
    "s.associate_floating_ip()"
   ]
  },
  {
   "cell_type": "code",
   "execution_count": null,
   "id": "78bcfd8a",
   "metadata": {},
   "outputs": [],
   "source": [
    "s.refresh()\n",
    "s.check_connectivity()"
   ]
  },
  {
   "cell_type": "code",
   "execution_count": null,
   "id": "defcb8e4",
   "metadata": {},
   "outputs": [],
   "source": [
    "s.refresh()\n",
    "s.show(type=\"widget\")"
   ]
  },
  {
   "cell_type": "code",
   "execution_count": null,
   "id": "d94f3aa7",
   "metadata": {},
   "outputs": [],
   "source": [
    "s.execute(\"git clone --recurse-submodules https://github.com/care-ai-mlops/care-companion.git\")"
   ]
  },
  {
   "cell_type": "markdown",
   "id": "82893566",
   "metadata": {},
   "source": [
    "## Docker Setup"
   ]
  },
  {
   "cell_type": "code",
   "execution_count": null,
   "id": "d200d0d7",
   "metadata": {},
   "outputs": [],
   "source": [
    "s.execute(\"curl -sSL https://get.docker.com/ | sudo sh\")\n",
    "s.execute(\"sudo groupadd -f docker; sudo usermod -aG docker $USER\")"
   ]
  },
  {
   "cell_type": "markdown",
   "id": "514590eb",
   "metadata": {},
   "source": [
    "## Setup NVIDIA GPU"
   ]
  },
  {
   "cell_type": "code",
   "execution_count": null,
   "id": "db29eca0",
   "metadata": {},
   "outputs": [],
   "source": [
    "s.execute(\"curl -fsSL https://nvidia.github.io/libnvidia-container/gpgkey | sudo gpg --dearmor -o /usr/share/keyrings/nvidia-container-toolkit-keyring.gpg \\\n",
    "  && curl -s -L https://nvidia.github.io/libnvidia-container/stable/deb/nvidia-container-toolkit.list | \\\n",
    "    sed 's#deb https://#deb [signed-by=/usr/share/keyrings/nvidia-container-toolkit-keyring.gpg] https://#g' | \\\n",
    "    sudo tee /etc/apt/sources.list.d/nvidia-container-toolkit.list\")\n",
    "s.execute(\"sudo apt update\")\n",
    "s.execute(\"sudo apt-get install -y nvidia-container-toolkit\")\n",
    "s.execute(\"sudo nvidia-ctk runtime configure --runtime=docker\")\n",
    "# for https://github.com/NVIDIA/nvidia-container-toolkit/issues/48\n",
    "s.execute(\"sudo jq 'if has(\\\"exec-opts\\\") then . else . + {\\\"exec-opts\\\": [\\\"native.cgroupdriver=cgroupfs\\\"]} end' /etc/docker/daemon.json | sudo tee /etc/docker/daemon.json.tmp > /dev/null && sudo mv /etc/docker/daemon.json.tmp /etc/docker/daemon.json\")\n",
    "s.execute(\"sudo systemctl restart docker\")"
   ]
  },
  {
   "cell_type": "code",
   "execution_count": null,
   "id": "9577d4b5",
   "metadata": {},
   "outputs": [],
   "source": [
    "s.execute(\"sudo apt update\")\n",
    "s.execute(\"sudo apt -y install nvtop\")"
   ]
  },
  {
   "cell_type": "markdown",
   "id": "9bc0a87c",
   "metadata": {},
   "source": [
    "## Mounting Block Storage"
   ]
  },
  {
   "cell_type": "code",
   "execution_count": null,
   "id": "9d4eaeeb",
   "metadata": {},
   "outputs": [],
   "source": [
    "cinder_client = chi.clients.cinder()\n",
    "volume = [v for v in cinder_client.volumes.list() if v.name=='block-persist-project51'][0]\n",
    "\n",
    "volume_manager = chi.nova().volumes\n",
    "volume_manager.create_server_volume(server_id = s.id, volume_id = volume.id)"
   ]
  },
  {
   "cell_type": "code",
   "execution_count": null,
   "id": "a2dde427",
   "metadata": {},
   "outputs": [],
   "source": [
    "s.execute('sudo mkdir -p /mnt/block')\n",
    "s.execute('sudo mount /dev/vdb1 /mnt/block')\n",
    "s.execute('ls -l /mnt/block')"
   ]
  },
  {
   "cell_type": "markdown",
   "id": "79d835d7",
   "metadata": {},
   "source": [
    "## Mounting Object Storage"
   ]
  },
  {
   "cell_type": "code",
   "execution_count": null,
   "id": "00d76189",
   "metadata": {},
   "outputs": [],
   "source": [
    "s.execute('curl https://rclone.org/install.sh | sudo bash')\n",
    "s.execute(\"sudo sed -i '/^#user_allow_other/s/^#//' /etc/fuse.conf\")\n",
    "s.execute(\"mkdir -p ~/.config/rclone\")"
   ]
  },
  {
   "cell_type": "code",
   "execution_count": null,
   "id": "fc7061d3",
   "metadata": {},
   "outputs": [],
   "source": [
    "s.execute(\"ln -sf /mnt/block/rclone/rclone.conf ~/.config/rclone/rclone.conf\")\n",
    "s.execute(\"rclone lsd chi_tacc:object-persist-project51\")"
   ]
  },
  {
   "cell_type": "code",
   "execution_count": null,
   "id": "04ee5ebb",
   "metadata": {},
   "outputs": [],
   "source": [
    "s.execute('sudo mkdir -p /mnt/object')\n",
    "s.execute('sudo chown -R cc /mnt/object')\n",
    "s.execute('sudo chgrp -R cc /mnt/object')"
   ]
  },
  {
   "cell_type": "code",
   "execution_count": null,
   "id": "2917f01c",
   "metadata": {},
   "outputs": [],
   "source": [
    "s.execute('rclone mount chi_tacc:object-persist-project51 /mnt/object --read-only --allow-other --daemon')"
   ]
  }
 ],
 "metadata": {
  "kernelspec": {
   "display_name": "test",
   "language": "python",
   "name": "python3"
  },
  "language_info": {
   "codemirror_mode": {
    "name": "ipython",
    "version": 3
   },
   "file_extension": ".py",
   "mimetype": "text/x-python",
   "name": "python",
   "nbconvert_exporter": "python",
   "pygments_lexer": "ipython3",
   "version": "3.12.7"
  }
 },
 "nbformat": 4,
 "nbformat_minor": 5
}
